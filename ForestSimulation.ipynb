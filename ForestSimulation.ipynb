{
 "cells": [
  {
   "cell_type": "markdown",
   "id": "6c4bbf1c-ba51-4e7e-9f4f-7fece4373ec0",
   "metadata": {},
   "source": [
    "# Forest Fire Simulation in Python"
   ]
  },
  {
   "cell_type": "code",
   "execution_count": 7,
   "id": "806dbc3a-3aff-4cc3-aff0-ea79238738d7",
   "metadata": {},
   "outputs": [],
   "source": [
    "import numpy as np\n",
    "import matplotlib.pyplot as plt \n",
    "import os\n"
   ]
  },
  {
   "cell_type": "code",
   "execution_count": 2,
   "id": "fd2070f1-9b0c-40da-b960-e14e81d699c2",
   "metadata": {},
   "outputs": [],
   "source": [
    "def neighbours(A, i, j):\n",
    "    # calculate number of neighbours of A[i,j] that are infected\n",
    "    nbrs = 0\n",
    "    rows, cols = A.shape\n",
    "    \n",
    "    # sum across row i - 1\n",
    "    if i > 0:\n",
    "        if j > 0: nbrs += (A[i-1, j-1] == 1)\n",
    "        nbrs += (A[i-1, j] == 1)\n",
    "        if j < cols - 1: nbrs += (A[i-1, j+1] == 1)\n",
    "    \n",
    "    # sum across row i\n",
    "    if j > 0: nbrs += (A[i, j-1] == 1)\n",
    "    nbrs += (A[i, j] == 1)\n",
    "    if j < cols - 1: nbrs += (A[i, j+1] == 1)\n",
    "    \n",
    "    # sum across row i + 1\n",
    "    if i < rows - 1:\n",
    "        if j > 0: nbrs += (A[i+1, j-1] == 1)\n",
    "        nbrs += (A[i+1, j] == 1)\n",
    "        if j < cols - 1: nbrs += (A[i+1, j+1] == 1)\n",
    "    \n",
    "    return nbrs"
   ]
  },
  {
   "cell_type": "code",
   "execution_count": 3,
   "id": "8d57112f-58cc-43fc-aef5-7e7659e0213d",
   "metadata": {},
   "outputs": [],
   "source": [
    "def forest_fire_plot(X):\n",
    "    # plot infected and removed individuals\n",
    "    for i in range(X.shape[0]):\n",
    "        for j in range(X.shape[1]):\n",
    "            if X[i, j] == 1:\n",
    "                plt.scatter(i, j, color='red')\n",
    "            elif X[i, j] == 0:\n",
    "                plt.scatter(i, j, color='grey')\n",
    "            elif X[i, j] == 2:\n",
    "                plt.scatter(i, j, color='green')  # Susceptible trees"
   ]
  },
  {
   "cell_type": "code",
   "execution_count": 4,
   "id": "a8ade3f1-d221-4519-a1f3-fe1508ec4744",
   "metadata": {},
   "outputs": [],
   "source": [
    "def sir_graph(susceptible_counts, infected_counts, removed_counts, alpha, beta):\n",
    "    plt.figure()\n",
    "    plt.plot(susceptible_counts, label=\"Susceptible\", color=\"blue\")\n",
    "    plt.plot(infected_counts, label='Infected', color='red')\n",
    "    plt.plot(removed_counts, label='Removed', color='grey')\n",
    "    plt.xlabel('Time Steps')\n",
    "    plt.ylabel('Number of Trees')\n",
    "    plt.legend()\n",
    "    plt.title(f'SIR Dynamics over Time with Alpha: {alpha} & Beta: {beta}')\n",
    "    plt.grid(True)\n",
    "    plt.savefig('SirGraph.png', dpi=600)\n",
    "    plt.show()\n",
    "    "
   ]
  },
  {
   "cell_type": "code",
   "execution_count": 12,
   "id": "ed629715-282e-4a6d-b97e-2e5bbd41b09d",
   "metadata": {},
   "outputs": [],
   "source": [
    "def forest_fire(X, a=0.2, b=0.4, pausing=False):\n",
    "    # simulate forest fire epidemic model\n",
    "    # X[i, j] = 2 for susceptible; 1 for infected; 0 for removed\n",
    "    plt.figure()\n",
    "    plt.xlim(0, X.shape[0])\n",
    "    plt.ylim(0, X.shape[1])\n",
    "    forest_fire_plot(X)\n",
    "    plt.show()\n",
    "\n",
    "    # added Sir model \n",
    "    susceptible_counts = []\n",
    "    infected_counts = []\n",
    "    removed_counts = []\n",
    "\n",
    "    framecounter = 0\n",
    "    \n",
    "    # main loop\n",
    "    burning = True\n",
    "    while burning:\n",
    "        burning = False\n",
    "\n",
    "        susceptible_count = np.sum(X == 2)\n",
    "        infected_count = np.sum(X == 1)\n",
    "        removed_count = np.sum(X == 0)\n",
    "\n",
    "        susceptible_counts.append(susceptible_count)\n",
    "        infected_counts.append(infected_count)\n",
    "        removed_counts.append(removed_count)\n",
    "\n",
    "        # check if pausing between updates\n",
    "        if pausing:\n",
    "            input(\"Hit any key to continue\")\n",
    "\n",
    "        \n",
    "        # update\n",
    "        B = X.copy()\n",
    "        for i in range(X.shape[0]):\n",
    "            for j in range(X.shape[1]):\n",
    "                if X[i, j] == 2:\n",
    "                    if np.random.rand() > (1 - a)**neighbours(X, i, j):\n",
    "                        B[i, j] = 1\n",
    "                elif X[i, j] == 1:\n",
    "                    burning = True\n",
    "                    if np.random.rand() < b:\n",
    "                        B[i, j] = 0\n",
    "        \n",
    "        X = B\n",
    "        plt.figure()\n",
    "        plt.xlim(0, X.shape[0])\n",
    "        plt.ylim(0, X.shape[1])\n",
    "        forest_fire_plot(X)\n",
    "\n",
    "        dir_path = \"./simulation_frames\"\n",
    "        if not os.path.exists(dir_path): \n",
    "            os.makedirs(dir_path)\n",
    "            print(\"Directory for pngs did not exist. Created it\")\n",
    "    \n",
    "        plt.savefig(\"./simulation_frames/forest_fire_frame\"+ str(framecounter) +\".png\")\n",
    "        framecounter = framecounter + 1\n",
    "        plt.close()\n",
    "        #plt.show()\n",
    "\n",
    "    sir_graph(susceptible_counts, infected_counts, removed_counts, alpha=a, beta=b)\n",
    "    return X"
   ]
  },
  {
   "cell_type": "code",
   "execution_count": 13,
   "id": "2a0c506a-b979-4d1d-9885-d37d910a1ea9",
   "metadata": {},
   "outputs": [
    {
     "name": "stdin",
     "output_type": "stream",
     "text": [
      "Enter alpha probability for infection rate (in range 0.0 to 1.0):  0.2\n"
     ]
    },
    {
     "name": "stdout",
     "output_type": "stream",
     "text": [
      "Alpha: 0.2\n"
     ]
    },
    {
     "ename": "NameError",
     "evalue": "name 'flo' is not defined",
     "output_type": "error",
     "traceback": [
      "\u001b[0;31m---------------------------------------------------------------------------\u001b[0m",
      "\u001b[0;31mNameError\u001b[0m                                 Traceback (most recent call last)",
      "Cell \u001b[0;32mIn[13], line 16\u001b[0m\n\u001b[1;32m     13\u001b[0m alpha_infection_prob \u001b[38;5;241m=\u001b[39m \u001b[38;5;28mfloat\u001b[39m(\u001b[38;5;28minput\u001b[39m(\u001b[38;5;124m\"\u001b[39m\u001b[38;5;124mEnter alpha probability for infection rate (in range 0.0 to 1.0): \u001b[39m\u001b[38;5;124m\"\u001b[39m))\n\u001b[1;32m     14\u001b[0m \u001b[38;5;28mprint\u001b[39m(\u001b[38;5;124mf\u001b[39m\u001b[38;5;124m\"\u001b[39m\u001b[38;5;124mAlpha: \u001b[39m\u001b[38;5;132;01m{\u001b[39;00malpha_infection_prob\u001b[38;5;132;01m}\u001b[39;00m\u001b[38;5;124m\"\u001b[39m)\n\u001b[0;32m---> 16\u001b[0m beta_infection_prob \u001b[38;5;241m=\u001b[39m \u001b[43mflo\u001b[49m\n\u001b[1;32m     17\u001b[0m at(\u001b[38;5;28minput\u001b[39m(\u001b[38;5;124m\"\u001b[39m\u001b[38;5;124mEnter beta probability for removal (in range 0.0 to 1.0): \u001b[39m\u001b[38;5;124m\"\u001b[39m))\n\u001b[1;32m     18\u001b[0m \u001b[38;5;28mprint\u001b[39m(\u001b[38;5;124mf\u001b[39m\u001b[38;5;124m\"\u001b[39m\u001b[38;5;124mBeta: \u001b[39m\u001b[38;5;132;01m{\u001b[39;00mbeta_infection_prob\u001b[38;5;132;01m}\u001b[39;00m\u001b[38;5;124m\"\u001b[39m)\n",
      "\u001b[0;31mNameError\u001b[0m: name 'flo' is not defined"
     ]
    }
   ],
   "source": [
    "# Initialization \n",
    "\n",
    "susceptible_tree = 2\n",
    "infected_tree = 1\n",
    "removed_tree = 0\n",
    "\n",
    "matrix_shape = (10, 10)\n",
    "\n",
    "np.random.seed(42)\n",
    "matrix = np.full(shape=matrix_shape, fill_value = susceptible_tree) \n",
    "matrix[5, 5] = infected_tree # start with one infected tree \n",
    "\n",
    "alpha_infection_prob = float(input(\"Enter alpha probability for infection rate (in range 0.0 to 1.0): \"))\n",
    "print(f\"Alpha: {alpha_infection_prob}\")\n",
    "\n",
    "beta_infection_prob = float(input(\"Enter beta probability for removal (in range 0.0 to 1.0): \"))\n",
    "at(input(\"Enter beta probability for removal (in range 0.0 to 1.0): \"))\n",
    "print(f\"Beta: {beta_infection_prob}\")\n",
    "\n",
    "X = forest_fire(matrix, alpha_infection_prob, beta_infection_prob, True)"
   ]
  },
  {
   "cell_type": "code",
   "execution_count": null,
   "id": "824fed0b-3c67-46e2-afe5-586139ea303f",
   "metadata": {},
   "outputs": [],
   "source": []
  }
 ],
 "metadata": {
  "kernelspec": {
   "display_name": "Python 3 (ipykernel)",
   "language": "python",
   "name": "python3"
  },
  "language_info": {
   "codemirror_mode": {
    "name": "ipython",
    "version": 3
   },
   "file_extension": ".py",
   "mimetype": "text/x-python",
   "name": "python",
   "nbconvert_exporter": "python",
   "pygments_lexer": "ipython3",
   "version": "3.8.19"
  }
 },
 "nbformat": 4,
 "nbformat_minor": 5
}

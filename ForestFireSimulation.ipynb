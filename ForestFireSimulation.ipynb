{
 "cells": [
  {
   "cell_type": "code",
   "execution_count": 7,
   "id": "efbaec3d-1c5f-4e03-bfc7-3fde4bfd46b6",
   "metadata": {},
   "outputs": [],
   "source": [
    "import numpy as np\n",
    "import matplotlib.pyplot as plt"
   ]
  },
  {
   "cell_type": "code",
   "execution_count": 8,
   "id": "005e266d-8d70-4e9b-9a43-d3593d611643",
   "metadata": {},
   "outputs": [],
   "source": [
    "def neighbours(A, i, j):\n",
    "    # calculate number of neighbours of A[i,j] that are infected\n",
    "    nbrs = 0\n",
    "    rows, cols = A.shape\n",
    "    \n",
    "    # sum across row i - 1\n",
    "    if i > 0:\n",
    "        if j > 0: nbrs += (A[i-1, j-1] == 1)\n",
    "        nbrs += (A[i-1, j] == 1)\n",
    "        if j < cols - 1: nbrs += (A[i-1, j+1] == 1)\n",
    "    \n",
    "    # sum across row i\n",
    "    if j > 0: nbrs += (A[i, j-1] == 1)\n",
    "    nbrs += (A[i, j] == 1)\n",
    "    if j < cols - 1: nbrs += (A[i, j+1] == 1)\n",
    "    \n",
    "    # sum across row i + 1\n",
    "    if i < rows - 1:\n",
    "        if j > 0: nbrs += (A[i+1, j-1] == 1)\n",
    "        nbrs += (A[i+1, j] == 1)\n",
    "        if j < cols - 1: nbrs += (A[i+1, j+1] == 1)\n",
    "    \n",
    "    return nbrs"
   ]
  },
  {
   "cell_type": "code",
   "execution_count": 28,
   "id": "c74d08e6-727e-4d6b-9c08-2312436e9bbe",
   "metadata": {},
   "outputs": [],
   "source": [
    "def forest_fire_plot(X):\n",
    "    # plot infected and removed individuals\n",
    "    for i in range(X.shape[0]):\n",
    "        for j in range(X.shape[1]):\n",
    "            if X[i, j] == 1:\n",
    "                plt.scatter(i, j, color='red')\n",
    "            elif X[i, j] == 0:\n",
    "                plt.scatter(i, j, color='grey')\n",
    "            elif X[i, j] == 2:\n",
    "                plt.scatter(i, j, color='green')  # Susceptible trees\n"
   ]
  },
  {
   "cell_type": "code",
   "execution_count": 29,
   "id": "db5dcf93-8287-4bfc-b224-da522c0e0c3e",
   "metadata": {},
   "outputs": [],
   "source": [
    "def forest_fire(X, a, b, pausing=False):\n",
    "    # simulate forest fire epidemic model\n",
    "    # X[i, j] = 2 for susceptible; 1 for infected; 0 for removed\n",
    "    plt.figure()\n",
    "    plt.xlim(0, X.shape[0])\n",
    "    plt.ylim(0, X.shape[1])\n",
    "    forest_fire_plot(X)\n",
    "    plt.show()\n",
    "\n",
    "    framecounter = 0\n",
    "    # main loop\n",
    "    burning = True\n",
    "    while burning:\n",
    "        burning = False\n",
    "\n",
    "        # check if pausing between updates\n",
    "        if pausing:\n",
    "            input(\"Hit any key to continue\")\n",
    "\n",
    "        # update\n",
    "        B = X.copy()\n",
    "        for i in range(X.shape[0]):\n",
    "            for j in range(X.shape[1]):\n",
    "                if X[i, j] == 2:\n",
    "                    if np.random.rand() > (1 - a)**neighbours(X, i, j):\n",
    "                        B[i, j] = 1\n",
    "                elif X[i, j] == 1:\n",
    "                    burning = True\n",
    "                    if np.random.rand() < b:\n",
    "                        B[i, j] = 0\n",
    "        \n",
    "        X = B\n",
    "        plt.figure()\n",
    "        plt.xlim(0, X.shape[0])\n",
    "        plt.ylim(0, X.shape[1])\n",
    "        forest_fire_plot(X)\n",
    "        plt.savefig(\"./simulation_frames/forest_fire_frame\"+ str(framecounter) +\".png\")\n",
    "        framecounter = framecounter + 1\n",
    "        plt.close()\n",
    "        #plt.show()\n",
    "    \n",
    "    return X"
   ]
  },
  {
   "cell_type": "code",
   "execution_count": 30,
   "id": "e2611be1-0ecb-4162-bd95-062a88e58e97",
   "metadata": {},
   "outputs": [],
   "source": [
    "# spark\n",
    "np.random.seed(3)\n",
    "X = np.full((21, 21), 2)\n",
    "X[10, 10] = 1\n"
   ]
  },
  {
   "cell_type": "code",
   "execution_count": 32,
   "id": "c3c16345-c084-42ed-9edf-bdfcb906d513",
   "metadata": {},
   "outputs": [
    {
     "data": {
      "image/png": "[encoded data removed]",
      "text/plain": [
       "<Figure size 640x480 with 1 Axes>"
      ]
     },
     "metadata": {},
     "output_type": "display_data"
    }
   ],
   "source": [
    "# big fires\n",
    "X = forest_fire(X, 0.5, 0.4, False)\n",
    "# medium fires\n",
    "# X = forest_fire(X, 0.07, 0.2, True)\n",
    "# X = forest_fire(X, 0.1, 0.4, True)\n",
    "# small fires\n",
    "# X = forest_fire(X, 0.05, 0.2, True)\n",
    "# X = forest_fire(X, 0.07, 0.4, True)"
   ]
  },
  {
   "cell_type": "code",
   "execution_count": null,
   "id": "d60585ab-2e86-42f9-bfb4-18cb4c5cbda6",
   "metadata": {},
   "outputs": [],
   "source": []
  }
 ],
 "metadata": {
  "kernelspec": {
   "display_name": "Python 3 (ipykernel)",
   "language": "python",
   "name": "python3"
  },
  "language_info": {
   "codemirror_mode": {
    "name": "ipython",
    "version": 3
   },
   "file_extension": ".py",
   "mimetype": "text/x-python",
   "name": "python",
   "nbconvert_exporter": "python",
   "pygments_lexer": "ipython3",
   "version": "3.12.3"
  }
 },
 "nbformat": 4,
 "nbformat_minor": 5
}
